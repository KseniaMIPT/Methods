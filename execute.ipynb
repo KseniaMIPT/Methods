{
 "cells": [
  {
   "cell_type": "code",
   "execution_count": 1,
   "metadata": {
    "collapsed": false
   },
   "outputs": [],
   "source": [
    "import numpy as np\n",
    "import scipy as sp\n",
    "from scipy import optimize\n",
    "#from scipy.signal import find_peaks\n",
    "import matplotlib.ticker as ticker\n",
    "from scipy import interpolate\n",
    "import os\n",
    "import matplotlib.pyplot as plt\n",
    "%config InlineBackend.figure_format = 'retina'"
   ]
  },
  {
   "cell_type": "code",
   "execution_count": 2,
   "metadata": {
    "collapsed": true
   },
   "outputs": [
    {
     "data": {
      "text/plain": [
       "['1706_down.txt',\n",
       " 'Видеозахват экрана_Тантал 800бар.avi',\n",
       " '2201_up.txt',\n",
       " '2599_up.txt',\n",
       " 'execute.ipynb',\n",
       " '1396_up.txt',\n",
       " '2105_down.txt',\n",
       " '1903_down.txt',\n",
       " '.DS_Store',\n",
       " '2405_down.txt',\n",
       " '2798_up.txt',\n",
       " 'Untitled.ipynb',\n",
       " 'Ca_exp1.txt',\n",
       " '2700_up.txt',\n",
       " 'Ti_exp4.txt',\n",
       " 'Ca_test.txt',\n",
       " 'Ca_exp2.txt',\n",
       " 'Ca_exp3.txt',\n",
       " 'Ti_exp5.txt',\n",
       " 'Ti_exp1.txt',\n",
       " '2605_down.txt',\n",
       " '2899_up.txt',\n",
       " '1699_up.txt',\n",
       " 'Ti_exp2.txt',\n",
       " 'Ca_exp4.txt',\n",
       " 'Ti_exp3.txt',\n",
       " '2498_up.txt',\n",
       " '2504_down.txt',\n",
       " '1502_down.txt',\n",
       " '2805_down.txt',\n",
       " '1897_up.txt',\n",
       " '1997_up.txt',\n",
       " '1501_up.txt',\n",
       " 'Al_exp3.txt',\n",
       " 'Al_exp2.txt',\n",
       " '1309_up.txt',\n",
       " 'Al_exp1.txt',\n",
       " '2004_down.txt',\n",
       " '.ipynb_checkpoints',\n",
       " '2705_down.txt',\n",
       " '1601_down.txt',\n",
       " 'Zn_exp2.txt',\n",
       " 'Zn_exp1.txt',\n",
       " '1804_down.txt',\n",
       " '2307_down.txt',\n",
       " '2298_up.txt',\n",
       " '1597_up.txt',\n",
       " '2097_up.txt',\n",
       " '2204_down.txt',\n",
       " 'calibration.png',\n",
       " '1798_up.txt',\n",
       " '2400_up.txt']"
      ]
     },
     "execution_count": 2,
     "metadata": {},
     "output_type": "execute_result"
    }
   ],
   "source": [
    "filenames = os.listdir('/Users/ksenia/Desktop/lupyr_Kornilov/Pyro/')\n",
    "filenames"
   ]
  },
  {
   "cell_type": "code",
   "execution_count": 3,
   "metadata": {
    "collapsed": true
   },
   "outputs": [
    {
     "data": {
      "text/plain": [
       "array(['.DS_Store', '.ipynb_checkpoints', '1309_up.txt', '1396_up.txt',\n",
       "       '1501_up.txt', '1502_down.txt', '1597_up.txt', '1601_down.txt',\n",
       "       '1699_up.txt', '1706_down.txt', '1798_up.txt', '1804_down.txt',\n",
       "       '1897_up.txt', '1903_down.txt', '1997_up.txt', '2004_down.txt',\n",
       "       '2097_up.txt', '2105_down.txt', '2201_up.txt', '2204_down.txt',\n",
       "       '2298_up.txt', '2307_down.txt', '2400_up.txt', '2405_down.txt',\n",
       "       '2498_up.txt', '2504_down.txt', '2599_up.txt', '2605_down.txt',\n",
       "       '2700_up.txt', '2705_down.txt', '2798_up.txt', '2805_down.txt',\n",
       "       '2899_up.txt', 'Al_exp1.txt', 'Al_exp2.txt', 'Al_exp3.txt',\n",
       "       'Ca_exp1.txt', 'Ca_exp2.txt', 'Ca_exp3.txt', 'Ca_exp4.txt',\n",
       "       'Ca_test.txt', 'Ti_exp1.txt', 'Ti_exp2.txt', 'Ti_exp3.txt',\n",
       "       'Ti_exp4.txt', 'Ti_exp5.txt', 'Untitled.ipynb', 'Zn_exp1.txt',\n",
       "       'Zn_exp2.txt', 'calibration.png', 'execute.ipynb',\n",
       "       'Видеозахват экрана_Тантал 800бар.avi'], \n",
       "      dtype='<U36')"
      ]
     },
     "execution_count": 3,
     "metadata": {},
     "output_type": "execute_result"
    }
   ],
   "source": [
    "np.sort(filenames)"
   ]
  },
  {
   "cell_type": "markdown",
   "metadata": {},
   "source": [
    "# Чтение файлов"
   ]
  },
  {
   "cell_type": "code",
   "execution_count": 4,
   "metadata": {
    "collapsed": true
   },
   "outputs": [],
   "source": [
    "def read_file(directory, file_name, flag):\n",
    "    f = open(directory+file_name, 'r')\n",
    "    line = f.readline()\n",
    "    time = []\n",
    "    spc = []\n",
    "    while line:\n",
    "        t, s = map(float, line.replace(',', '.').split())\n",
    "        time.append(t)\n",
    "        spc.append(s)\n",
    "        line = f.readline()\n",
    "    f.close()\n",
    "    spc = np.array(spc)\n",
    "    time = np.array(time)\n",
    "    if flag:\n",
    "        return time, spc\n",
    "    else:\n",
    "        return spc"
   ]
  },
  {
   "cell_type": "code",
   "execution_count": 5,
   "metadata": {
    "collapsed": false
   },
   "outputs": [],
   "source": [
    "directory = \"/Users/ksenia/Desktop/lupyr_Kornilov/Pyro/\"\n",
    "up = []\n",
    "down = []\n",
    "I_up = []\n",
    "I_down = []\n",
    "for name in np.sort(filenames):\n",
    "    if name[-6:-4]=='up':\n",
    "        spc = []\n",
    "        spc = read_file(directory, name, False)\n",
    "        up.append(spc)\n",
    "        I_up.append(int(name[:4]))\n",
    "    elif name[-6:-4]=='wn':\n",
    "        spc = []\n",
    "        spc = read_file(directory, name, False)\n",
    "        down.append(spc)\n",
    "        I_down.append(int(name[:4]))\n",
    "I_up = np.array(I_up[:-2])/100\n",
    "I_down = np.array(I_down[:-1])/100"
   ]
  },
  {
   "cell_type": "code",
   "execution_count": 6,
   "metadata": {
    "collapsed": false
   },
   "outputs": [],
   "source": [
    "I_calib = [13, 14, 15, 16, 17, 18, 19, 20, 21, 22, 23, 24, 25, 26, 27, 28, 29]\n",
    "T_calib = [1547, 1631, 1707, 1776, 1841, 1904, 1964, 2022, 2078, 2133, 2186, 2239, 2290, 2341, 2389, 2437, 2484]\n",
    "f = interpolate.interp1d(I_calib, T_calib)"
   ]
  },
  {
   "cell_type": "code",
   "execution_count": 7,
   "metadata": {
    "collapsed": false
   },
   "outputs": [
    {
     "data": {
      "text/plain": [
       "array([ 13.09,  13.96,  15.01,  15.97,  16.99,  17.98,  18.97,  19.97,\n",
       "        20.97,  22.01,  22.98,  24.  ,  24.98,  25.99,  27.  ])"
      ]
     },
     "execution_count": 7,
     "metadata": {},
     "output_type": "execute_result"
    }
   ],
   "source": [
    "I_up"
   ]
  },
  {
   "cell_type": "code",
   "execution_count": 8,
   "metadata": {
    "collapsed": false
   },
   "outputs": [],
   "source": [
    "T_up = f(I_up)\n",
    "T_down = f(I_down)"
   ]
  },
  {
   "cell_type": "code",
   "execution_count": 9,
   "metadata": {
    "collapsed": false
   },
   "outputs": [
    {
     "data": {
      "text/plain": [
       "array([ 1554.56,  1627.64,  1707.69,  1773.93,  1840.35,  1902.74,\n",
       "        1962.2 ,  2020.26,  2076.32,  2133.53,  2184.94,  2239.  ,\n",
       "        2288.98,  2340.49,  2389.  ])"
      ]
     },
     "execution_count": 9,
     "metadata": {},
     "output_type": "execute_result"
    }
   ],
   "source": [
    "T_up"
   ]
  },
  {
   "cell_type": "code",
   "execution_count": 10,
   "metadata": {
    "collapsed": false
   },
   "outputs": [
    {
     "data": {
      "text/plain": [
       "array([ 1708.38,  1776.65,  1844.78,  1906.4 ,  1965.74,  2024.24,\n",
       "        2080.75,  2135.12,  2189.71,  2241.55,  2292.04,  2343.4 ,  2391.4 ])"
      ]
     },
     "execution_count": 10,
     "metadata": {},
     "output_type": "execute_result"
    }
   ],
   "source": [
    "T_down"
   ]
  },
  {
   "cell_type": "code",
   "execution_count": 11,
   "metadata": {
    "collapsed": false
   },
   "outputs": [
    {
     "data": {
      "text/plain": [
       "array([ 1584.8,  1631. ])"
      ]
     },
     "execution_count": 11,
     "metadata": {},
     "output_type": "execute_result"
    }
   ],
   "source": [
    "f(np.array([13.45, 14]))"
   ]
  },
  {
   "cell_type": "code",
   "execution_count": 12,
   "metadata": {
    "collapsed": true
   },
   "outputs": [],
   "source": [
    "U_up = []\n",
    "U_down = []\n",
    "for arr in up[:-2]:\n",
    "    U_up.append(np.mean(arr))\n",
    "for arr in down[:-1]:\n",
    "    U_down.append(np.mean(arr))"
   ]
  },
  {
   "cell_type": "code",
   "execution_count": 26,
   "metadata": {
    "collapsed": false
   },
   "outputs": [
    {
     "name": "stdout",
     "output_type": "stream",
     "text": [
      "[0.21101785999999997, 0.29452672750000003, 0.37232276250000002, 0.43760827249999995, 0.50008947000000004, 0.55883690750000004, 0.61305218750000001, 0.6642711724999999, 0.713872065, 0.75894593499999996, 0.79982936000000004, 0.83363215000000002, 0.86186095500000015]\n"
     ]
    }
   ],
   "source": [
    "print(U_down)"
   ]
  },
  {
   "cell_type": "code",
   "execution_count": 13,
   "metadata": {
    "collapsed": true
   },
   "outputs": [],
   "source": [
    "def lin(x, a, b):\n",
    "    return a + b / x"
   ]
  },
  {
   "cell_type": "code",
   "execution_count": 14,
   "metadata": {
    "collapsed": false
   },
   "outputs": [],
   "source": [
    "a_up, b_up = optimize.curve_fit(lin, T_up, U_up)[0]\n",
    "a_down, b_down = optimize.curve_fit(lin, T_down, U_down)[0]"
   ]
  },
  {
   "cell_type": "code",
   "execution_count": 29,
   "metadata": {
    "collapsed": false
   },
   "outputs": [
    {
     "name": "stdout",
     "output_type": "stream",
     "text": [
      "[0.20271034253814602, 0.29176010707721955, 0.37405656785233754, 0.44342347232655133, 0.50611324124115775, 0.56431780250082153, 0.61743469173475196, 0.66588609640806662, 0.7121128542940991, 0.75392661137023165, 0.79283327397424697, 0.83069022456717745, 0.86460053911213941]\n"
     ]
    }
   ],
   "source": [
    "print(list(a_down + b_down/T_down))"
   ]
  },
  {
   "cell_type": "code",
   "execution_count": 15,
   "metadata": {
    "collapsed": false
   },
   "outputs": [
    {
     "data": {
      "text/plain": [
       "(array([  2.31872582e+00,  -3.61516091e+03]),\n",
       " array([[  8.72847359e-05,  -1.68874752e-01],\n",
       "        [ -1.68874752e-01,   3.32523610e+02]]))"
      ]
     },
     "execution_count": 15,
     "metadata": {},
     "output_type": "execute_result"
    }
   ],
   "source": [
    "sp.optimize.curve_fit(lin, T_up, U_up)"
   ]
  },
  {
   "cell_type": "code",
   "execution_count": 16,
   "metadata": {
    "collapsed": false
   },
   "outputs": [
    {
     "data": {
      "text/plain": [
       "(array([  2.52013035e+00,  -3.95903400e+03]),\n",
       " array([[  1.88757328e-04,  -3.82178779e-01],\n",
       "        [ -3.82178779e-01,   7.82352168e+02]]))"
      ]
     },
     "execution_count": 16,
     "metadata": {},
     "output_type": "execute_result"
    }
   ],
   "source": [
    "sp.optimize.curve_fit(lin, T_down, U_down)"
   ]
  },
  {
   "cell_type": "code",
   "execution_count": 17,
   "metadata": {
    "collapsed": false
   },
   "outputs": [
    {
     "data": {
      "text/plain": [
       "<matplotlib.text.Text at 0x116a6b9b0>"
      ]
     },
     "execution_count": 17,
     "metadata": {},
     "output_type": "execute_result"
    }
   ],
   "source": [
    "import matplotlib\n",
    "matplotlib.rc('font', family='Verdana')\n",
    "\n",
    "plt.figure(figsize=(5, 10))\n",
    "\n",
    "plt.plot(1/T_up, U_up, 'bo', color='b', label='Повышение температуры' )\n",
    "x_min, x_max = np.min(1/T_up), np.max(1/T_up)\n",
    "x = np.linspace(x_min, x_max, 10)\n",
    "plt.plot(x, a_up + b_up * x)\n",
    "\n",
    "plt.plot(1/T_down, U_down, 'bo', color='g', label='Понижение температуры')\n",
    "x_min, x_max = np.min(1/T_down), np.max(1/T_down) \n",
    "x = np.linspace(x_min, x_max, 10)\n",
    "plt.plot(x, a_down + b_down * x)\n",
    "\n",
    "plt.legend(numpoints = 1)\n",
    "plt.xlabel(\"$ \\\\frac{1}{T}, \\\\frac{1}{K} $\", fontsize='xx-large');\n",
    "plt.ylabel(\"U, B\", fontsize='xx-large');\n",
    "#plt.text(4, 9, \"U = (2.319 \\pm 0.001) - (3615 \\pm 18) frac{1}{T}\", {'color': 'b', 'fontsize': 18})\n",
    "#plt.show()"
   ]
  },
  {
   "cell_type": "code",
   "execution_count": 18,
   "metadata": {
    "collapsed": true
   },
   "outputs": [],
   "source": [
    "C1, C2 = 3.7413*10**(-16), 1.4380*10**(-2)"
   ]
  },
  {
   "cell_type": "code",
   "execution_count": 19,
   "metadata": {
    "collapsed": false
   },
   "outputs": [
    {
     "data": {
      "text/plain": [
       "6.4780878407607241e-07"
      ]
     },
     "execution_count": 19,
     "metadata": {},
     "output_type": "execute_result"
    }
   ],
   "source": [
    "-0.375 * C2/np.log(10) / b_up"
   ]
  },
  {
   "cell_type": "code",
   "execution_count": 22,
   "metadata": {
    "collapsed": false
   },
   "outputs": [
    {
     "data": {
      "text/plain": [
       "0.04907642303606609"
      ]
     },
     "execution_count": 22,
     "metadata": {},
     "output_type": "execute_result"
    }
   ],
   "source": [
    "6.4780878407607241*0.03/3.96"
   ]
  },
  {
   "cell_type": "code",
   "execution_count": 20,
   "metadata": {
    "collapsed": false
   },
   "outputs": [
    {
     "data": {
      "text/plain": [
       "5.9154152107741111e-07"
      ]
     },
     "execution_count": 20,
     "metadata": {},
     "output_type": "execute_result"
    }
   ],
   "source": [
    "-0.375 * C2/np.log(10) / b_down"
   ]
  },
  {
   "cell_type": "code",
   "execution_count": 23,
   "metadata": {
    "collapsed": false
   },
   "outputs": [
    {
     "data": {
      "text/plain": [
       "0.04481375159677357"
      ]
     },
     "execution_count": 23,
     "metadata": {},
     "output_type": "execute_result"
    }
   ],
   "source": [
    "5.9154152107741111*0.03/3.96"
   ]
  },
  {
   "cell_type": "code",
   "execution_count": null,
   "metadata": {
    "collapsed": false
   },
   "outputs": [],
   "source": [
    "ca = []\n",
    "al = []\n",
    "ti = []\n",
    "zn = []\n",
    "for name in filenames:\n",
    "    if name[:2]=='Ca':\n",
    "        spc = []\n",
    "        time = []\n",
    "        time, spc = read_file(directory, name, True)\n",
    "        ca.append([time, spc])\n",
    "    elif name[:2]=='Al':\n",
    "        spc = []\n",
    "        time = []\n",
    "        time, spc = read_file(directory, name, True)\n",
    "        al.append([time, spc])\n",
    "    elif name[:2]=='Ti':\n",
    "        spc = []\n",
    "        time = []\n",
    "        time, spc = read_file(directory, name, True)\n",
    "        ti.append([time, spc])\n",
    "    elif name[:2]=='Zn':\n",
    "        spc = []\n",
    "        time = []\n",
    "        time, spc = read_file(directory, name, True)\n",
    "        zn.append([time, spc])"
   ]
  },
  {
   "cell_type": "code",
   "execution_count": null,
   "metadata": {
    "collapsed": true
   },
   "outputs": [],
   "source": [
    "def U2T(a, b, u):\n",
    "    return b / (u - a)"
   ]
  },
  {
   "cell_type": "code",
   "execution_count": null,
   "metadata": {
    "collapsed": true
   },
   "outputs": [],
   "source": [
    "for arr in ca:\n",
    "    arr[1] = U2T(a_up, b_up, arr[1])\n",
    "for arr in al:\n",
    "    arr[1] = U2T(a_up, b_up, arr[1])\n",
    "for arr in ti:\n",
    "    arr[1] = U2T(a_up, b_up, arr[1])\n",
    "for arr in zn:\n",
    "    arr[1] = U2T(a_up, b_up, arr[1])"
   ]
  },
  {
   "cell_type": "code",
   "execution_count": null,
   "metadata": {
    "collapsed": false,
    "scrolled": false
   },
   "outputs": [],
   "source": [
    "for arr in ca:\n",
    "    plt.figure(figsize=(10, 10))\n",
    "    plt.plot(arr[0], arr[1])\n",
    "    plt.xlabel('t, sec', fontsize='xx-large')\n",
    "    plt.ylabel('T, K', fontsize='xx-large')\n",
    "    plt.title('Ca', fontsize='xx-large')\n",
    "    \n",
    "    plt.axhline(0, color='black')\n",
    "    plt.axvline(0, color='black')\n",
    "    ax = plt.axes()\n",
    "    ax.xaxis.set_major_locator(ticker.MultipleLocator(1))\n",
    "    ax.xaxis.set_minor_locator(ticker.MultipleLocator(0.2))\n",
    "    ax.yaxis.set_major_locator(ticker.MultipleLocator(500))\n",
    "    ax.yaxis.set_minor_locator(ticker.MultipleLocator(100))\n",
    "    plt.grid(True, which='major', linewidth = 1.7, color = 'grey')\n",
    "    plt.grid(True, which='minor', linewidth = 0.5)\n",
    "    plt.show()"
   ]
  },
  {
   "cell_type": "code",
   "execution_count": null,
   "metadata": {
    "collapsed": false,
    "scrolled": false
   },
   "outputs": [],
   "source": [
    "for arr in al:\n",
    "    plt.figure(figsize=(10, 10))\n",
    "    plt.plot(arr[0], arr[1])\n",
    "    plt.xlabel('t, sec', fontsize='xx-large')\n",
    "    plt.ylabel('T, K', fontsize='xx-large')\n",
    "    plt.title('Al', fontsize='xx-large')\n",
    "    \n",
    "    plt.axhline(0, color='black')\n",
    "    plt.axvline(0, color='black')\n",
    "    ax = plt.axes()\n",
    "    ax.xaxis.set_major_locator(ticker.MultipleLocator(1))\n",
    "    ax.xaxis.set_minor_locator(ticker.MultipleLocator(0.2))\n",
    "    ax.yaxis.set_major_locator(ticker.MultipleLocator(500))\n",
    "    ax.yaxis.set_minor_locator(ticker.MultipleLocator(100))\n",
    "    plt.grid(True, which='major', linewidth = 1.7, color = 'grey')\n",
    "    plt.grid(True, which='minor', linewidth = 0.5)"
   ]
  },
  {
   "cell_type": "code",
   "execution_count": null,
   "metadata": {
    "collapsed": false,
    "scrolled": false
   },
   "outputs": [],
   "source": [
    "for arr in ti:\n",
    "    plt.figure(figsize=(10, 10))\n",
    "    plt.plot(arr[0], arr[1])\n",
    "    plt.xlabel('t, sec', fontsize='xx-large')\n",
    "    plt.ylabel('T, K', fontsize='xx-large')\n",
    "    plt.title('Ti', fontsize='xx-large')\n",
    "    \n",
    "    plt.axhline(0, color='black')\n",
    "    plt.axvline(0, color='black')\n",
    "    ax = plt.axes()\n",
    "    ax.xaxis.set_major_locator(ticker.MultipleLocator(1))\n",
    "    ax.xaxis.set_minor_locator(ticker.MultipleLocator(0.2))\n",
    "    ax.yaxis.set_major_locator(ticker.MultipleLocator(500))\n",
    "    ax.yaxis.set_minor_locator(ticker.MultipleLocator(100))\n",
    "    plt.grid(True, which='major', linewidth = 1.7, color = 'grey')\n",
    "    plt.grid(True, which='minor', linewidth = 0.5)"
   ]
  },
  {
   "cell_type": "code",
   "execution_count": null,
   "metadata": {
    "collapsed": false
   },
   "outputs": [],
   "source": [
    "for arr in zn:\n",
    "    plt.figure(figsize=(10, 10))\n",
    "    plt.plot(arr[0], arr[1])\n",
    "    plt.xlabel('t, sec', fontsize='xx-large')\n",
    "    plt.ylabel('T, K', fontsize='xx-large')\n",
    "    plt.title('Zn', fontsize='xx-large')\n",
    "    \n",
    "    plt.axhline(0, color='black')\n",
    "    plt.axvline(0, color='black')\n",
    "    ax = plt.axes()\n",
    "    ax.xaxis.set_major_locator(ticker.MultipleLocator(1))\n",
    "    ax.xaxis.set_minor_locator(ticker.MultipleLocator(0.2))\n",
    "    ax.yaxis.set_major_locator(ticker.MultipleLocator(500))\n",
    "    ax.yaxis.set_minor_locator(ticker.MultipleLocator(100))\n",
    "    plt.grid(True, which='major', linewidth = 1.7, color = 'grey')\n",
    "    plt.grid(True, which='minor', linewidth = 0.5)"
   ]
  },
  {
   "cell_type": "code",
   "execution_count": null,
   "metadata": {
    "collapsed": true
   },
   "outputs": [],
   "source": [
    "def read_file2(file_name):\n",
    "    f = open(file_name, 'r')\n",
    "    line = f.readline()\n",
    "    time = []\n",
    "    spc = []\n",
    "    while line:\n",
    "        t, s = map(float, line.replace(',', '.').split())\n",
    "        time.append(t)\n",
    "        spc.append(s)\n",
    "        line = f.readline()\n",
    "    f.close()\n",
    "    spc = np.array(spc)\n",
    "    time = np.array(time)\n",
    "    return(time, spc)"
   ]
  },
  {
   "cell_type": "code",
   "execution_count": null,
   "metadata": {
    "collapsed": false
   },
   "outputs": [],
   "source": [
    "spc1 = read_file2('/Users/ksenia/Desktop/lupyr_Kornilov/Pyro/1309_up.txt')"
   ]
  },
  {
   "cell_type": "code",
   "execution_count": null,
   "metadata": {
    "collapsed": true
   },
   "outputs": [],
   "source": [
    "import matplotlib\n",
    "matplotlib.rc('font', family='Verdana')\n",
    "\n",
    "plt.figure(figsize=(10, 10))\n",
    "plt.plot(spc1[0], spc1[1])\n",
    "plt.xlabel('t, c', fontsize='xx-large')\n",
    "plt.ylabel('U, B', fontsize='xx-large')\n",
    "plt.show()"
   ]
  },
  {
   "cell_type": "code",
   "execution_count": null,
   "metadata": {
    "collapsed": true
   },
   "outputs": [],
   "source": [
    "\n",
    "    "
   ]
  },
  {
   "cell_type": "markdown",
   "metadata": {},
   "source": [
    "- Написать введение\n",
    "- Ошибки \n",
    "- температуры плавления\n",
    "- ошибка 650 - 648\n",
    "- приближение Вина"
   ]
  }
 ],
 "metadata": {
  "kernelspec": {
   "display_name": "Python 3",
   "language": "python",
   "name": "python3"
  },
  "language_info": {
   "codemirror_mode": {
    "name": "ipython",
    "version": 3
   },
   "file_extension": ".py",
   "mimetype": "text/x-python",
   "name": "python",
   "nbconvert_exporter": "python",
   "pygments_lexer": "ipython3",
   "version": "3.4.3"
  }
 },
 "nbformat": 4,
 "nbformat_minor": 2
}
